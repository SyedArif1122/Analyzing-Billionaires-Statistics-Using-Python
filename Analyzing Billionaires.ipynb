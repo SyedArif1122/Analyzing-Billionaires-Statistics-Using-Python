{
 "cells": [
  {
   "cell_type": "markdown",
   "id": "c068a1d0",
   "metadata": {},
   "source": [
    "# Analyzing Billionaires Statistics Dataset (2023) with Python"
   ]
  },
  {
   "cell_type": "markdown",
   "id": "1b3ba75c",
   "metadata": {},
   "source": [
    "Problem Statement\n",
    "This dataset contains statistics on the world's billionaires, including information about their businesses, industries, and personal details. It provides insights into the wealth distribution, business sectors, and demographics of billionaires worldwide."
   ]
  },
  {
   "cell_type": "markdown",
   "id": "6ff2a48f",
   "metadata": {},
   "source": [
    "# Import Library"
   ]
  },
  {
   "cell_type": "code",
   "execution_count": 1,
   "id": "df179ad8",
   "metadata": {},
   "outputs": [],
   "source": [
    "import pandas as pd"
   ]
  },
  {
   "cell_type": "code",
   "execution_count": 2,
   "id": "517a0fd1",
   "metadata": {},
   "outputs": [
    {
     "name": "stderr",
     "output_type": "stream",
     "text": [
      "C:\\Users\\Syed Arif\\anaconda3\\lib\\site-packages\\scipy\\__init__.py:146: UserWarning: A NumPy version >=1.16.5 and <1.23.0 is required for this version of SciPy (detected version 1.25.1\n",
      "  warnings.warn(f\"A NumPy version >={np_minversion} and <{np_maxversion}\"\n"
     ]
    }
   ],
   "source": [
    "import pandas as pd\n",
    "import seaborn as sns\n",
    "import matplotlib.pyplot as plt\n",
    "import seaborn as sns"
   ]
  },
  {
   "cell_type": "markdown",
   "id": "4b0eb245",
   "metadata": {},
   "source": [
    "# Uploading Csv fle"
   ]
  },
  {
   "cell_type": "code",
   "execution_count": 3,
   "id": "ddda5ead",
   "metadata": {},
   "outputs": [],
   "source": [
    "df = pd.read_csv(r\"Billionaires.csv\")"
   ]
  },
  {
   "cell_type": "markdown",
   "id": "c5597201",
   "metadata": {},
   "source": [
    "# Data Preprocessing\n"
   ]
  },
  {
   "cell_type": "markdown",
   "id": "aace63f6",
   "metadata": {},
   "source": [
    "# .head()"
   ]
  },
  {
   "cell_type": "markdown",
   "id": "b7a66965",
   "metadata": {},
   "source": [
    "head is used show to the By default = 5 rows in the dataset"
   ]
  },
  {
   "cell_type": "code",
   "execution_count": 4,
   "id": "1c714689",
   "metadata": {},
   "outputs": [
    {
     "data": {
      "text/html": [
       "<div>\n",
       "<style scoped>\n",
       "    .dataframe tbody tr th:only-of-type {\n",
       "        vertical-align: middle;\n",
       "    }\n",
       "\n",
       "    .dataframe tbody tr th {\n",
       "        vertical-align: top;\n",
       "    }\n",
       "\n",
       "    .dataframe thead th {\n",
       "        text-align: right;\n",
       "    }\n",
       "</style>\n",
       "<table border=\"1\" class=\"dataframe\">\n",
       "  <thead>\n",
       "    <tr style=\"text-align: right;\">\n",
       "      <th></th>\n",
       "      <th>rank</th>\n",
       "      <th>finalWorth</th>\n",
       "      <th>category</th>\n",
       "      <th>personName</th>\n",
       "      <th>age</th>\n",
       "      <th>country</th>\n",
       "      <th>city</th>\n",
       "      <th>source</th>\n",
       "      <th>industries</th>\n",
       "      <th>countryOfCitizenship</th>\n",
       "      <th>...</th>\n",
       "      <th>cpi_change_country</th>\n",
       "      <th>gdp_country</th>\n",
       "      <th>gross_tertiary_education_enrollment</th>\n",
       "      <th>gross_primary_education_enrollment_country</th>\n",
       "      <th>life_expectancy_country</th>\n",
       "      <th>tax_revenue_country_country</th>\n",
       "      <th>total_tax_rate_country</th>\n",
       "      <th>population_country</th>\n",
       "      <th>latitude_country</th>\n",
       "      <th>longitude_country</th>\n",
       "    </tr>\n",
       "  </thead>\n",
       "  <tbody>\n",
       "    <tr>\n",
       "      <th>0</th>\n",
       "      <td>1</td>\n",
       "      <td>211000</td>\n",
       "      <td>Fashion &amp; Retail</td>\n",
       "      <td>Bernard Arnault &amp; family</td>\n",
       "      <td>74.0</td>\n",
       "      <td>France</td>\n",
       "      <td>Paris</td>\n",
       "      <td>LVMH</td>\n",
       "      <td>Fashion &amp; Retail</td>\n",
       "      <td>France</td>\n",
       "      <td>...</td>\n",
       "      <td>1.1</td>\n",
       "      <td>$2,715,518,274,227</td>\n",
       "      <td>65.6</td>\n",
       "      <td>102.5</td>\n",
       "      <td>82.5</td>\n",
       "      <td>24.2</td>\n",
       "      <td>60.7</td>\n",
       "      <td>67059887.0</td>\n",
       "      <td>46.227638</td>\n",
       "      <td>2.213749</td>\n",
       "    </tr>\n",
       "    <tr>\n",
       "      <th>1</th>\n",
       "      <td>2</td>\n",
       "      <td>180000</td>\n",
       "      <td>Automotive</td>\n",
       "      <td>Elon Musk</td>\n",
       "      <td>51.0</td>\n",
       "      <td>United States</td>\n",
       "      <td>Austin</td>\n",
       "      <td>Tesla, SpaceX</td>\n",
       "      <td>Automotive</td>\n",
       "      <td>United States</td>\n",
       "      <td>...</td>\n",
       "      <td>7.5</td>\n",
       "      <td>$21,427,700,000,000</td>\n",
       "      <td>88.2</td>\n",
       "      <td>101.8</td>\n",
       "      <td>78.5</td>\n",
       "      <td>9.6</td>\n",
       "      <td>36.6</td>\n",
       "      <td>328239523.0</td>\n",
       "      <td>37.090240</td>\n",
       "      <td>-95.712891</td>\n",
       "    </tr>\n",
       "    <tr>\n",
       "      <th>2</th>\n",
       "      <td>3</td>\n",
       "      <td>114000</td>\n",
       "      <td>Technology</td>\n",
       "      <td>Jeff Bezos</td>\n",
       "      <td>59.0</td>\n",
       "      <td>United States</td>\n",
       "      <td>Medina</td>\n",
       "      <td>Amazon</td>\n",
       "      <td>Technology</td>\n",
       "      <td>United States</td>\n",
       "      <td>...</td>\n",
       "      <td>7.5</td>\n",
       "      <td>$21,427,700,000,000</td>\n",
       "      <td>88.2</td>\n",
       "      <td>101.8</td>\n",
       "      <td>78.5</td>\n",
       "      <td>9.6</td>\n",
       "      <td>36.6</td>\n",
       "      <td>328239523.0</td>\n",
       "      <td>37.090240</td>\n",
       "      <td>-95.712891</td>\n",
       "    </tr>\n",
       "    <tr>\n",
       "      <th>3</th>\n",
       "      <td>4</td>\n",
       "      <td>107000</td>\n",
       "      <td>Technology</td>\n",
       "      <td>Larry Ellison</td>\n",
       "      <td>78.0</td>\n",
       "      <td>United States</td>\n",
       "      <td>Lanai</td>\n",
       "      <td>Oracle</td>\n",
       "      <td>Technology</td>\n",
       "      <td>United States</td>\n",
       "      <td>...</td>\n",
       "      <td>7.5</td>\n",
       "      <td>$21,427,700,000,000</td>\n",
       "      <td>88.2</td>\n",
       "      <td>101.8</td>\n",
       "      <td>78.5</td>\n",
       "      <td>9.6</td>\n",
       "      <td>36.6</td>\n",
       "      <td>328239523.0</td>\n",
       "      <td>37.090240</td>\n",
       "      <td>-95.712891</td>\n",
       "    </tr>\n",
       "    <tr>\n",
       "      <th>4</th>\n",
       "      <td>5</td>\n",
       "      <td>106000</td>\n",
       "      <td>Finance &amp; Investments</td>\n",
       "      <td>Warren Buffett</td>\n",
       "      <td>92.0</td>\n",
       "      <td>United States</td>\n",
       "      <td>Omaha</td>\n",
       "      <td>Berkshire Hathaway</td>\n",
       "      <td>Finance &amp; Investments</td>\n",
       "      <td>United States</td>\n",
       "      <td>...</td>\n",
       "      <td>7.5</td>\n",
       "      <td>$21,427,700,000,000</td>\n",
       "      <td>88.2</td>\n",
       "      <td>101.8</td>\n",
       "      <td>78.5</td>\n",
       "      <td>9.6</td>\n",
       "      <td>36.6</td>\n",
       "      <td>328239523.0</td>\n",
       "      <td>37.090240</td>\n",
       "      <td>-95.712891</td>\n",
       "    </tr>\n",
       "  </tbody>\n",
       "</table>\n",
       "<p>5 rows × 35 columns</p>\n",
       "</div>"
      ],
      "text/plain": [
       "   rank  finalWorth               category                personName   age  \\\n",
       "0     1      211000       Fashion & Retail  Bernard Arnault & family  74.0   \n",
       "1     2      180000             Automotive                 Elon Musk  51.0   \n",
       "2     3      114000             Technology                Jeff Bezos  59.0   \n",
       "3     4      107000             Technology             Larry Ellison  78.0   \n",
       "4     5      106000  Finance & Investments            Warren Buffett  92.0   \n",
       "\n",
       "         country    city              source             industries  \\\n",
       "0         France   Paris                LVMH       Fashion & Retail   \n",
       "1  United States  Austin       Tesla, SpaceX             Automotive   \n",
       "2  United States  Medina              Amazon             Technology   \n",
       "3  United States   Lanai              Oracle             Technology   \n",
       "4  United States   Omaha  Berkshire Hathaway  Finance & Investments   \n",
       "\n",
       "  countryOfCitizenship  ... cpi_change_country           gdp_country  \\\n",
       "0               France  ...                1.1   $2,715,518,274,227    \n",
       "1        United States  ...                7.5  $21,427,700,000,000    \n",
       "2        United States  ...                7.5  $21,427,700,000,000    \n",
       "3        United States  ...                7.5  $21,427,700,000,000    \n",
       "4        United States  ...                7.5  $21,427,700,000,000    \n",
       "\n",
       "  gross_tertiary_education_enrollment  \\\n",
       "0                                65.6   \n",
       "1                                88.2   \n",
       "2                                88.2   \n",
       "3                                88.2   \n",
       "4                                88.2   \n",
       "\n",
       "  gross_primary_education_enrollment_country life_expectancy_country  \\\n",
       "0                                      102.5                    82.5   \n",
       "1                                      101.8                    78.5   \n",
       "2                                      101.8                    78.5   \n",
       "3                                      101.8                    78.5   \n",
       "4                                      101.8                    78.5   \n",
       "\n",
       "  tax_revenue_country_country total_tax_rate_country population_country  \\\n",
       "0                        24.2                   60.7         67059887.0   \n",
       "1                         9.6                   36.6        328239523.0   \n",
       "2                         9.6                   36.6        328239523.0   \n",
       "3                         9.6                   36.6        328239523.0   \n",
       "4                         9.6                   36.6        328239523.0   \n",
       "\n",
       "  latitude_country longitude_country  \n",
       "0        46.227638          2.213749  \n",
       "1        37.090240        -95.712891  \n",
       "2        37.090240        -95.712891  \n",
       "3        37.090240        -95.712891  \n",
       "4        37.090240        -95.712891  \n",
       "\n",
       "[5 rows x 35 columns]"
      ]
     },
     "execution_count": 4,
     "metadata": {},
     "output_type": "execute_result"
    }
   ],
   "source": [
    "df.head()"
   ]
  },
  {
   "cell_type": "markdown",
   "id": "8684a0d2",
   "metadata": {},
   "source": [
    "# .tail()"
   ]
  },
  {
   "cell_type": "markdown",
   "id": "dc1a3074",
   "metadata": {},
   "source": [
    "tail is used to show rows by Descending order"
   ]
  },
  {
   "cell_type": "code",
   "execution_count": 5,
   "id": "13069e51",
   "metadata": {},
   "outputs": [
    {
     "data": {
      "text/html": [
       "<div>\n",
       "<style scoped>\n",
       "    .dataframe tbody tr th:only-of-type {\n",
       "        vertical-align: middle;\n",
       "    }\n",
       "\n",
       "    .dataframe tbody tr th {\n",
       "        vertical-align: top;\n",
       "    }\n",
       "\n",
       "    .dataframe thead th {\n",
       "        text-align: right;\n",
       "    }\n",
       "</style>\n",
       "<table border=\"1\" class=\"dataframe\">\n",
       "  <thead>\n",
       "    <tr style=\"text-align: right;\">\n",
       "      <th></th>\n",
       "      <th>rank</th>\n",
       "      <th>finalWorth</th>\n",
       "      <th>category</th>\n",
       "      <th>personName</th>\n",
       "      <th>age</th>\n",
       "      <th>country</th>\n",
       "      <th>city</th>\n",
       "      <th>source</th>\n",
       "      <th>industries</th>\n",
       "      <th>countryOfCitizenship</th>\n",
       "      <th>...</th>\n",
       "      <th>cpi_change_country</th>\n",
       "      <th>gdp_country</th>\n",
       "      <th>gross_tertiary_education_enrollment</th>\n",
       "      <th>gross_primary_education_enrollment_country</th>\n",
       "      <th>life_expectancy_country</th>\n",
       "      <th>tax_revenue_country_country</th>\n",
       "      <th>total_tax_rate_country</th>\n",
       "      <th>population_country</th>\n",
       "      <th>latitude_country</th>\n",
       "      <th>longitude_country</th>\n",
       "    </tr>\n",
       "  </thead>\n",
       "  <tbody>\n",
       "    <tr>\n",
       "      <th>2635</th>\n",
       "      <td>2540</td>\n",
       "      <td>1000</td>\n",
       "      <td>Healthcare</td>\n",
       "      <td>Yu Rong</td>\n",
       "      <td>51.0</td>\n",
       "      <td>China</td>\n",
       "      <td>Shanghai</td>\n",
       "      <td>Health clinics</td>\n",
       "      <td>Healthcare</td>\n",
       "      <td>China</td>\n",
       "      <td>...</td>\n",
       "      <td>2.9</td>\n",
       "      <td>$19,910,000,000,000</td>\n",
       "      <td>50.6</td>\n",
       "      <td>100.2</td>\n",
       "      <td>77.0</td>\n",
       "      <td>9.4</td>\n",
       "      <td>59.2</td>\n",
       "      <td>1.397715e+09</td>\n",
       "      <td>35.861660</td>\n",
       "      <td>104.195397</td>\n",
       "    </tr>\n",
       "    <tr>\n",
       "      <th>2636</th>\n",
       "      <td>2540</td>\n",
       "      <td>1000</td>\n",
       "      <td>Food &amp; Beverage</td>\n",
       "      <td>Richard Yuengling, Jr.</td>\n",
       "      <td>80.0</td>\n",
       "      <td>United States</td>\n",
       "      <td>Pottsville</td>\n",
       "      <td>Beer</td>\n",
       "      <td>Food &amp; Beverage</td>\n",
       "      <td>United States</td>\n",
       "      <td>...</td>\n",
       "      <td>7.5</td>\n",
       "      <td>$21,427,700,000,000</td>\n",
       "      <td>88.2</td>\n",
       "      <td>101.8</td>\n",
       "      <td>78.5</td>\n",
       "      <td>9.6</td>\n",
       "      <td>36.6</td>\n",
       "      <td>3.282395e+08</td>\n",
       "      <td>37.090240</td>\n",
       "      <td>-95.712891</td>\n",
       "    </tr>\n",
       "    <tr>\n",
       "      <th>2637</th>\n",
       "      <td>2540</td>\n",
       "      <td>1000</td>\n",
       "      <td>Manufacturing</td>\n",
       "      <td>Zhang Gongyun</td>\n",
       "      <td>60.0</td>\n",
       "      <td>China</td>\n",
       "      <td>Gaomi</td>\n",
       "      <td>Tyre manufacturing machinery</td>\n",
       "      <td>Manufacturing</td>\n",
       "      <td>China</td>\n",
       "      <td>...</td>\n",
       "      <td>2.9</td>\n",
       "      <td>$19,910,000,000,000</td>\n",
       "      <td>50.6</td>\n",
       "      <td>100.2</td>\n",
       "      <td>77.0</td>\n",
       "      <td>9.4</td>\n",
       "      <td>59.2</td>\n",
       "      <td>1.397715e+09</td>\n",
       "      <td>35.861660</td>\n",
       "      <td>104.195397</td>\n",
       "    </tr>\n",
       "    <tr>\n",
       "      <th>2638</th>\n",
       "      <td>2540</td>\n",
       "      <td>1000</td>\n",
       "      <td>Real Estate</td>\n",
       "      <td>Zhang Guiping &amp; family</td>\n",
       "      <td>71.0</td>\n",
       "      <td>China</td>\n",
       "      <td>Nanjing</td>\n",
       "      <td>Real estate</td>\n",
       "      <td>Real Estate</td>\n",
       "      <td>China</td>\n",
       "      <td>...</td>\n",
       "      <td>2.9</td>\n",
       "      <td>$19,910,000,000,000</td>\n",
       "      <td>50.6</td>\n",
       "      <td>100.2</td>\n",
       "      <td>77.0</td>\n",
       "      <td>9.4</td>\n",
       "      <td>59.2</td>\n",
       "      <td>1.397715e+09</td>\n",
       "      <td>35.861660</td>\n",
       "      <td>104.195397</td>\n",
       "    </tr>\n",
       "    <tr>\n",
       "      <th>2639</th>\n",
       "      <td>2540</td>\n",
       "      <td>1000</td>\n",
       "      <td>Diversified</td>\n",
       "      <td>Inigo Zobel</td>\n",
       "      <td>66.0</td>\n",
       "      <td>Philippines</td>\n",
       "      <td>Makati</td>\n",
       "      <td>Diversified</td>\n",
       "      <td>Diversified</td>\n",
       "      <td>Philippines</td>\n",
       "      <td>...</td>\n",
       "      <td>2.5</td>\n",
       "      <td>$376,795,508,680</td>\n",
       "      <td>35.5</td>\n",
       "      <td>107.5</td>\n",
       "      <td>71.1</td>\n",
       "      <td>14.0</td>\n",
       "      <td>43.1</td>\n",
       "      <td>1.081166e+08</td>\n",
       "      <td>12.879721</td>\n",
       "      <td>121.774017</td>\n",
       "    </tr>\n",
       "  </tbody>\n",
       "</table>\n",
       "<p>5 rows × 35 columns</p>\n",
       "</div>"
      ],
      "text/plain": [
       "      rank  finalWorth         category              personName   age  \\\n",
       "2635  2540        1000       Healthcare                 Yu Rong  51.0   \n",
       "2636  2540        1000  Food & Beverage  Richard Yuengling, Jr.  80.0   \n",
       "2637  2540        1000    Manufacturing           Zhang Gongyun  60.0   \n",
       "2638  2540        1000      Real Estate  Zhang Guiping & family  71.0   \n",
       "2639  2540        1000      Diversified             Inigo Zobel  66.0   \n",
       "\n",
       "            country        city                        source  \\\n",
       "2635          China    Shanghai                Health clinics   \n",
       "2636  United States  Pottsville                          Beer   \n",
       "2637          China       Gaomi  Tyre manufacturing machinery   \n",
       "2638          China     Nanjing                   Real estate   \n",
       "2639    Philippines      Makati                   Diversified   \n",
       "\n",
       "           industries countryOfCitizenship  ... cpi_change_country  \\\n",
       "2635       Healthcare                China  ...                2.9   \n",
       "2636  Food & Beverage        United States  ...                7.5   \n",
       "2637    Manufacturing                China  ...                2.9   \n",
       "2638      Real Estate                China  ...                2.9   \n",
       "2639      Diversified          Philippines  ...                2.5   \n",
       "\n",
       "               gdp_country gross_tertiary_education_enrollment  \\\n",
       "2635  $19,910,000,000,000                                 50.6   \n",
       "2636  $21,427,700,000,000                                 88.2   \n",
       "2637  $19,910,000,000,000                                 50.6   \n",
       "2638  $19,910,000,000,000                                 50.6   \n",
       "2639     $376,795,508,680                                 35.5   \n",
       "\n",
       "     gross_primary_education_enrollment_country life_expectancy_country  \\\n",
       "2635                                      100.2                    77.0   \n",
       "2636                                      101.8                    78.5   \n",
       "2637                                      100.2                    77.0   \n",
       "2638                                      100.2                    77.0   \n",
       "2639                                      107.5                    71.1   \n",
       "\n",
       "     tax_revenue_country_country total_tax_rate_country population_country  \\\n",
       "2635                         9.4                   59.2       1.397715e+09   \n",
       "2636                         9.6                   36.6       3.282395e+08   \n",
       "2637                         9.4                   59.2       1.397715e+09   \n",
       "2638                         9.4                   59.2       1.397715e+09   \n",
       "2639                        14.0                   43.1       1.081166e+08   \n",
       "\n",
       "     latitude_country longitude_country  \n",
       "2635        35.861660        104.195397  \n",
       "2636        37.090240        -95.712891  \n",
       "2637        35.861660        104.195397  \n",
       "2638        35.861660        104.195397  \n",
       "2639        12.879721        121.774017  \n",
       "\n",
       "[5 rows x 35 columns]"
      ]
     },
     "execution_count": 5,
     "metadata": {},
     "output_type": "execute_result"
    }
   ],
   "source": [
    "df.tail()"
   ]
  },
  {
   "cell_type": "markdown",
   "id": "e76fc80f",
   "metadata": {},
   "source": [
    "# .shape"
   ]
  },
  {
   "cell_type": "markdown",
   "id": "21d6d5af",
   "metadata": {},
   "source": [
    "It show the total no of rows & Column in the dataset"
   ]
  },
  {
   "cell_type": "code",
   "execution_count": 6,
   "id": "e34d1ec4",
   "metadata": {},
   "outputs": [
    {
     "data": {
      "text/plain": [
       "(2640, 35)"
      ]
     },
     "execution_count": 6,
     "metadata": {},
     "output_type": "execute_result"
    }
   ],
   "source": [
    "df.shape"
   ]
  },
  {
   "cell_type": "markdown",
   "id": "618b8c56",
   "metadata": {},
   "source": [
    "# .Columns"
   ]
  },
  {
   "cell_type": "markdown",
   "id": "81d5b891",
   "metadata": {},
   "source": [
    "It show the no of each Column"
   ]
  },
  {
   "cell_type": "code",
   "execution_count": 7,
   "id": "d90a23ca",
   "metadata": {},
   "outputs": [
    {
     "data": {
      "text/plain": [
       "Index(['rank', 'finalWorth', 'category', 'personName', 'age', 'country',\n",
       "       'city', 'source', 'industries', 'countryOfCitizenship', 'organization',\n",
       "       'selfMade', 'status', 'gender', 'birthDate', 'lastName', 'firstName',\n",
       "       'title', 'date', 'state', 'residenceStateRegion', 'birthYear',\n",
       "       'birthMonth', 'birthDay', 'cpi_country', 'cpi_change_country',\n",
       "       'gdp_country', 'gross_tertiary_education_enrollment',\n",
       "       'gross_primary_education_enrollment_country', 'life_expectancy_country',\n",
       "       'tax_revenue_country_country', 'total_tax_rate_country',\n",
       "       'population_country', 'latitude_country', 'longitude_country'],\n",
       "      dtype='object')"
      ]
     },
     "execution_count": 7,
     "metadata": {},
     "output_type": "execute_result"
    }
   ],
   "source": [
    "df.columns"
   ]
  },
  {
   "cell_type": "markdown",
   "id": "4c3f8320",
   "metadata": {},
   "source": [
    "# .dtypes"
   ]
  },
  {
   "cell_type": "markdown",
   "id": "19881edc",
   "metadata": {},
   "source": [
    "This Attribute show the data type of each column"
   ]
  },
  {
   "cell_type": "code",
   "execution_count": 8,
   "id": "4a5c7bdd",
   "metadata": {},
   "outputs": [
    {
     "data": {
      "text/plain": [
       "rank                                            int64\n",
       "finalWorth                                      int64\n",
       "category                                       object\n",
       "personName                                     object\n",
       "age                                           float64\n",
       "country                                        object\n",
       "city                                           object\n",
       "source                                         object\n",
       "industries                                     object\n",
       "countryOfCitizenship                           object\n",
       "organization                                   object\n",
       "selfMade                                         bool\n",
       "status                                         object\n",
       "gender                                         object\n",
       "birthDate                                      object\n",
       "lastName                                       object\n",
       "firstName                                      object\n",
       "title                                          object\n",
       "date                                           object\n",
       "state                                          object\n",
       "residenceStateRegion                           object\n",
       "birthYear                                     float64\n",
       "birthMonth                                    float64\n",
       "birthDay                                      float64\n",
       "cpi_country                                   float64\n",
       "cpi_change_country                            float64\n",
       "gdp_country                                    object\n",
       "gross_tertiary_education_enrollment           float64\n",
       "gross_primary_education_enrollment_country    float64\n",
       "life_expectancy_country                       float64\n",
       "tax_revenue_country_country                   float64\n",
       "total_tax_rate_country                        float64\n",
       "population_country                            float64\n",
       "latitude_country                              float64\n",
       "longitude_country                             float64\n",
       "dtype: object"
      ]
     },
     "execution_count": 8,
     "metadata": {},
     "output_type": "execute_result"
    }
   ],
   "source": [
    "df.dtypes"
   ]
  },
  {
   "cell_type": "markdown",
   "id": "f641048a",
   "metadata": {},
   "source": [
    "# .unique()"
   ]
  },
  {
   "cell_type": "markdown",
   "id": "bf6d4f5e",
   "metadata": {},
   "source": [
    "In a column, It show the unique value of specific column."
   ]
  },
  {
   "cell_type": "code",
   "execution_count": 9,
   "id": "bb0f0dd0",
   "metadata": {},
   "outputs": [
    {
     "data": {
      "text/plain": [
       "array(['Fashion & Retail', 'Automotive', 'Technology',\n",
       "       'Finance & Investments', 'Media & Entertainment', 'Telecom',\n",
       "       'Diversified', 'Food & Beverage', 'Logistics',\n",
       "       'Gambling & Casinos', 'Manufacturing', 'Real Estate',\n",
       "       'Metals & Mining', 'Energy', 'Healthcare', 'Service',\n",
       "       'Construction & Engineering', 'Sports'], dtype=object)"
      ]
     },
     "execution_count": 9,
     "metadata": {},
     "output_type": "execute_result"
    }
   ],
   "source": [
    "df[\"category\"].unique()"
   ]
  },
  {
   "cell_type": "markdown",
   "id": "f34840f6",
   "metadata": {},
   "source": [
    "# .nuique()"
   ]
  },
  {
   "cell_type": "markdown",
   "id": "73792a7b",
   "metadata": {},
   "source": [
    "It will show the total no of unque value from whole data frame"
   ]
  },
  {
   "cell_type": "code",
   "execution_count": 10,
   "id": "2e192d57",
   "metadata": {},
   "outputs": [
    {
     "data": {
      "text/plain": [
       "rank                                           219\n",
       "finalWorth                                     219\n",
       "category                                        18\n",
       "personName                                    2638\n",
       "age                                             79\n",
       "country                                         78\n",
       "city                                           741\n",
       "source                                         906\n",
       "industries                                      18\n",
       "countryOfCitizenship                            77\n",
       "organization                                   294\n",
       "selfMade                                         2\n",
       "status                                           6\n",
       "gender                                           2\n",
       "birthDate                                     2060\n",
       "lastName                                      1736\n",
       "firstName                                     1770\n",
       "title                                           97\n",
       "date                                             2\n",
       "state                                           45\n",
       "residenceStateRegion                             5\n",
       "birthYear                                       77\n",
       "birthMonth                                      12\n",
       "birthDay                                        31\n",
       "cpi_country                                     63\n",
       "cpi_change_country                              44\n",
       "gdp_country                                     68\n",
       "gross_tertiary_education_enrollment             63\n",
       "gross_primary_education_enrollment_country      60\n",
       "life_expectancy_country                         54\n",
       "tax_revenue_country_country                     57\n",
       "total_tax_rate_country                          63\n",
       "population_country                              68\n",
       "latitude_country                                68\n",
       "longitude_country                               68\n",
       "dtype: int64"
      ]
     },
     "execution_count": 10,
     "metadata": {},
     "output_type": "execute_result"
    }
   ],
   "source": [
    "df.nunique()"
   ]
  },
  {
   "cell_type": "markdown",
   "id": "4d234903",
   "metadata": {},
   "source": [
    "# .describe()"
   ]
  },
  {
   "cell_type": "markdown",
   "id": "dff6dbc9",
   "metadata": {},
   "source": [
    "It show the Count, mean , median etc"
   ]
  },
  {
   "cell_type": "code",
   "execution_count": 11,
   "id": "dba2fda3",
   "metadata": {},
   "outputs": [
    {
     "data": {
      "text/html": [
       "<div>\n",
       "<style scoped>\n",
       "    .dataframe tbody tr th:only-of-type {\n",
       "        vertical-align: middle;\n",
       "    }\n",
       "\n",
       "    .dataframe tbody tr th {\n",
       "        vertical-align: top;\n",
       "    }\n",
       "\n",
       "    .dataframe thead th {\n",
       "        text-align: right;\n",
       "    }\n",
       "</style>\n",
       "<table border=\"1\" class=\"dataframe\">\n",
       "  <thead>\n",
       "    <tr style=\"text-align: right;\">\n",
       "      <th></th>\n",
       "      <th>rank</th>\n",
       "      <th>finalWorth</th>\n",
       "      <th>age</th>\n",
       "      <th>birthYear</th>\n",
       "      <th>birthMonth</th>\n",
       "      <th>birthDay</th>\n",
       "      <th>cpi_country</th>\n",
       "      <th>cpi_change_country</th>\n",
       "      <th>gross_tertiary_education_enrollment</th>\n",
       "      <th>gross_primary_education_enrollment_country</th>\n",
       "      <th>life_expectancy_country</th>\n",
       "      <th>tax_revenue_country_country</th>\n",
       "      <th>total_tax_rate_country</th>\n",
       "      <th>population_country</th>\n",
       "      <th>latitude_country</th>\n",
       "      <th>longitude_country</th>\n",
       "    </tr>\n",
       "  </thead>\n",
       "  <tbody>\n",
       "    <tr>\n",
       "      <th>count</th>\n",
       "      <td>2640.000000</td>\n",
       "      <td>2640.000000</td>\n",
       "      <td>2575.000000</td>\n",
       "      <td>2564.000000</td>\n",
       "      <td>2564.000000</td>\n",
       "      <td>2564.000000</td>\n",
       "      <td>2456.000000</td>\n",
       "      <td>2456.000000</td>\n",
       "      <td>2458.000000</td>\n",
       "      <td>2459.000000</td>\n",
       "      <td>2458.000000</td>\n",
       "      <td>2457.000000</td>\n",
       "      <td>2458.000000</td>\n",
       "      <td>2.476000e+03</td>\n",
       "      <td>2476.000000</td>\n",
       "      <td>2476.000000</td>\n",
       "    </tr>\n",
       "    <tr>\n",
       "      <th>mean</th>\n",
       "      <td>1289.159091</td>\n",
       "      <td>4623.787879</td>\n",
       "      <td>65.140194</td>\n",
       "      <td>1957.183307</td>\n",
       "      <td>5.740250</td>\n",
       "      <td>12.099844</td>\n",
       "      <td>127.755204</td>\n",
       "      <td>4.364169</td>\n",
       "      <td>67.225671</td>\n",
       "      <td>102.858520</td>\n",
       "      <td>78.122823</td>\n",
       "      <td>12.546235</td>\n",
       "      <td>43.963344</td>\n",
       "      <td>5.102053e+08</td>\n",
       "      <td>34.903592</td>\n",
       "      <td>12.583156</td>\n",
       "    </tr>\n",
       "    <tr>\n",
       "      <th>std</th>\n",
       "      <td>739.693726</td>\n",
       "      <td>9834.240939</td>\n",
       "      <td>13.258098</td>\n",
       "      <td>13.282516</td>\n",
       "      <td>3.710085</td>\n",
       "      <td>9.918876</td>\n",
       "      <td>26.452951</td>\n",
       "      <td>3.623763</td>\n",
       "      <td>21.343426</td>\n",
       "      <td>4.710977</td>\n",
       "      <td>3.730099</td>\n",
       "      <td>5.368625</td>\n",
       "      <td>12.145296</td>\n",
       "      <td>5.542447e+08</td>\n",
       "      <td>17.003497</td>\n",
       "      <td>86.762989</td>\n",
       "    </tr>\n",
       "    <tr>\n",
       "      <th>min</th>\n",
       "      <td>1.000000</td>\n",
       "      <td>1000.000000</td>\n",
       "      <td>18.000000</td>\n",
       "      <td>1921.000000</td>\n",
       "      <td>1.000000</td>\n",
       "      <td>1.000000</td>\n",
       "      <td>99.550000</td>\n",
       "      <td>-1.900000</td>\n",
       "      <td>4.000000</td>\n",
       "      <td>84.700000</td>\n",
       "      <td>54.300000</td>\n",
       "      <td>0.100000</td>\n",
       "      <td>9.900000</td>\n",
       "      <td>3.801900e+04</td>\n",
       "      <td>-40.900557</td>\n",
       "      <td>-106.346771</td>\n",
       "    </tr>\n",
       "    <tr>\n",
       "      <th>25%</th>\n",
       "      <td>659.000000</td>\n",
       "      <td>1500.000000</td>\n",
       "      <td>56.000000</td>\n",
       "      <td>1948.000000</td>\n",
       "      <td>2.000000</td>\n",
       "      <td>1.000000</td>\n",
       "      <td>117.240000</td>\n",
       "      <td>1.700000</td>\n",
       "      <td>50.600000</td>\n",
       "      <td>100.200000</td>\n",
       "      <td>77.000000</td>\n",
       "      <td>9.600000</td>\n",
       "      <td>36.600000</td>\n",
       "      <td>6.683440e+07</td>\n",
       "      <td>35.861660</td>\n",
       "      <td>-95.712891</td>\n",
       "    </tr>\n",
       "    <tr>\n",
       "      <th>50%</th>\n",
       "      <td>1312.000000</td>\n",
       "      <td>2300.000000</td>\n",
       "      <td>65.000000</td>\n",
       "      <td>1957.000000</td>\n",
       "      <td>6.000000</td>\n",
       "      <td>11.000000</td>\n",
       "      <td>117.240000</td>\n",
       "      <td>2.900000</td>\n",
       "      <td>65.600000</td>\n",
       "      <td>101.800000</td>\n",
       "      <td>78.500000</td>\n",
       "      <td>9.600000</td>\n",
       "      <td>41.200000</td>\n",
       "      <td>3.282395e+08</td>\n",
       "      <td>37.090240</td>\n",
       "      <td>10.451526</td>\n",
       "    </tr>\n",
       "    <tr>\n",
       "      <th>75%</th>\n",
       "      <td>1905.000000</td>\n",
       "      <td>4200.000000</td>\n",
       "      <td>75.000000</td>\n",
       "      <td>1966.000000</td>\n",
       "      <td>9.000000</td>\n",
       "      <td>21.000000</td>\n",
       "      <td>125.080000</td>\n",
       "      <td>7.500000</td>\n",
       "      <td>88.200000</td>\n",
       "      <td>102.600000</td>\n",
       "      <td>80.900000</td>\n",
       "      <td>12.800000</td>\n",
       "      <td>59.100000</td>\n",
       "      <td>1.366418e+09</td>\n",
       "      <td>40.463667</td>\n",
       "      <td>104.195397</td>\n",
       "    </tr>\n",
       "    <tr>\n",
       "      <th>max</th>\n",
       "      <td>2540.000000</td>\n",
       "      <td>211000.000000</td>\n",
       "      <td>101.000000</td>\n",
       "      <td>2004.000000</td>\n",
       "      <td>12.000000</td>\n",
       "      <td>31.000000</td>\n",
       "      <td>288.570000</td>\n",
       "      <td>53.500000</td>\n",
       "      <td>136.600000</td>\n",
       "      <td>142.100000</td>\n",
       "      <td>84.200000</td>\n",
       "      <td>37.200000</td>\n",
       "      <td>106.300000</td>\n",
       "      <td>1.397715e+09</td>\n",
       "      <td>61.924110</td>\n",
       "      <td>174.885971</td>\n",
       "    </tr>\n",
       "  </tbody>\n",
       "</table>\n",
       "</div>"
      ],
      "text/plain": [
       "              rank     finalWorth          age    birthYear   birthMonth  \\\n",
       "count  2640.000000    2640.000000  2575.000000  2564.000000  2564.000000   \n",
       "mean   1289.159091    4623.787879    65.140194  1957.183307     5.740250   \n",
       "std     739.693726    9834.240939    13.258098    13.282516     3.710085   \n",
       "min       1.000000    1000.000000    18.000000  1921.000000     1.000000   \n",
       "25%     659.000000    1500.000000    56.000000  1948.000000     2.000000   \n",
       "50%    1312.000000    2300.000000    65.000000  1957.000000     6.000000   \n",
       "75%    1905.000000    4200.000000    75.000000  1966.000000     9.000000   \n",
       "max    2540.000000  211000.000000   101.000000  2004.000000    12.000000   \n",
       "\n",
       "          birthDay  cpi_country  cpi_change_country  \\\n",
       "count  2564.000000  2456.000000         2456.000000   \n",
       "mean     12.099844   127.755204            4.364169   \n",
       "std       9.918876    26.452951            3.623763   \n",
       "min       1.000000    99.550000           -1.900000   \n",
       "25%       1.000000   117.240000            1.700000   \n",
       "50%      11.000000   117.240000            2.900000   \n",
       "75%      21.000000   125.080000            7.500000   \n",
       "max      31.000000   288.570000           53.500000   \n",
       "\n",
       "       gross_tertiary_education_enrollment  \\\n",
       "count                          2458.000000   \n",
       "mean                             67.225671   \n",
       "std                              21.343426   \n",
       "min                               4.000000   \n",
       "25%                              50.600000   \n",
       "50%                              65.600000   \n",
       "75%                              88.200000   \n",
       "max                             136.600000   \n",
       "\n",
       "       gross_primary_education_enrollment_country  life_expectancy_country  \\\n",
       "count                                 2459.000000              2458.000000   \n",
       "mean                                   102.858520                78.122823   \n",
       "std                                      4.710977                 3.730099   \n",
       "min                                     84.700000                54.300000   \n",
       "25%                                    100.200000                77.000000   \n",
       "50%                                    101.800000                78.500000   \n",
       "75%                                    102.600000                80.900000   \n",
       "max                                    142.100000                84.200000   \n",
       "\n",
       "       tax_revenue_country_country  total_tax_rate_country  \\\n",
       "count                  2457.000000             2458.000000   \n",
       "mean                     12.546235               43.963344   \n",
       "std                       5.368625               12.145296   \n",
       "min                       0.100000                9.900000   \n",
       "25%                       9.600000               36.600000   \n",
       "50%                       9.600000               41.200000   \n",
       "75%                      12.800000               59.100000   \n",
       "max                      37.200000              106.300000   \n",
       "\n",
       "       population_country  latitude_country  longitude_country  \n",
       "count        2.476000e+03       2476.000000        2476.000000  \n",
       "mean         5.102053e+08         34.903592          12.583156  \n",
       "std          5.542447e+08         17.003497          86.762989  \n",
       "min          3.801900e+04        -40.900557        -106.346771  \n",
       "25%          6.683440e+07         35.861660         -95.712891  \n",
       "50%          3.282395e+08         37.090240          10.451526  \n",
       "75%          1.366418e+09         40.463667         104.195397  \n",
       "max          1.397715e+09         61.924110         174.885971  "
      ]
     },
     "execution_count": 11,
     "metadata": {},
     "output_type": "execute_result"
    }
   ],
   "source": [
    "df.describe()"
   ]
  },
  {
   "cell_type": "markdown",
   "id": "e0a1161b",
   "metadata": {},
   "source": [
    "# .value_counts"
   ]
  },
  {
   "cell_type": "markdown",
   "id": "dcea0077",
   "metadata": {},
   "source": [
    "It Shows all the unique values with their count"
   ]
  },
  {
   "cell_type": "code",
   "execution_count": 12,
   "id": "8a63f82e",
   "metadata": {},
   "outputs": [
    {
     "data": {
      "text/plain": [
       "Finance & Investments         372\n",
       "Manufacturing                 324\n",
       "Technology                    314\n",
       "Fashion & Retail              266\n",
       "Food & Beverage               212\n",
       "Healthcare                    201\n",
       "Real Estate                   193\n",
       "Diversified                   187\n",
       "Energy                        100\n",
       "Media & Entertainment          91\n",
       "Metals & Mining                74\n",
       "Automotive                     73\n",
       "Service                        53\n",
       "Construction & Engineering     45\n",
       "Logistics                      40\n",
       "Sports                         39\n",
       "Telecom                        31\n",
       "Gambling & Casinos             25\n",
       "Name: category, dtype: int64"
      ]
     },
     "execution_count": 12,
     "metadata": {},
     "output_type": "execute_result"
    }
   ],
   "source": [
    "df[\"category\"].value_counts()"
   ]
  },
  {
   "cell_type": "markdown",
   "id": "f55f4c89",
   "metadata": {},
   "source": [
    "# .isnull()"
   ]
  },
  {
   "cell_type": "markdown",
   "id": "cb961a9d",
   "metadata": {},
   "source": [
    "It shows the how many null values"
   ]
  },
  {
   "cell_type": "code",
   "execution_count": 13,
   "id": "614ae149",
   "metadata": {},
   "outputs": [
    {
     "data": {
      "text/html": [
       "<div>\n",
       "<style scoped>\n",
       "    .dataframe tbody tr th:only-of-type {\n",
       "        vertical-align: middle;\n",
       "    }\n",
       "\n",
       "    .dataframe tbody tr th {\n",
       "        vertical-align: top;\n",
       "    }\n",
       "\n",
       "    .dataframe thead th {\n",
       "        text-align: right;\n",
       "    }\n",
       "</style>\n",
       "<table border=\"1\" class=\"dataframe\">\n",
       "  <thead>\n",
       "    <tr style=\"text-align: right;\">\n",
       "      <th></th>\n",
       "      <th>rank</th>\n",
       "      <th>finalWorth</th>\n",
       "      <th>category</th>\n",
       "      <th>personName</th>\n",
       "      <th>age</th>\n",
       "      <th>country</th>\n",
       "      <th>city</th>\n",
       "      <th>source</th>\n",
       "      <th>industries</th>\n",
       "      <th>countryOfCitizenship</th>\n",
       "      <th>...</th>\n",
       "      <th>cpi_change_country</th>\n",
       "      <th>gdp_country</th>\n",
       "      <th>gross_tertiary_education_enrollment</th>\n",
       "      <th>gross_primary_education_enrollment_country</th>\n",
       "      <th>life_expectancy_country</th>\n",
       "      <th>tax_revenue_country_country</th>\n",
       "      <th>total_tax_rate_country</th>\n",
       "      <th>population_country</th>\n",
       "      <th>latitude_country</th>\n",
       "      <th>longitude_country</th>\n",
       "    </tr>\n",
       "  </thead>\n",
       "  <tbody>\n",
       "    <tr>\n",
       "      <th>0</th>\n",
       "      <td>False</td>\n",
       "      <td>False</td>\n",
       "      <td>False</td>\n",
       "      <td>False</td>\n",
       "      <td>False</td>\n",
       "      <td>False</td>\n",
       "      <td>False</td>\n",
       "      <td>False</td>\n",
       "      <td>False</td>\n",
       "      <td>False</td>\n",
       "      <td>...</td>\n",
       "      <td>False</td>\n",
       "      <td>False</td>\n",
       "      <td>False</td>\n",
       "      <td>False</td>\n",
       "      <td>False</td>\n",
       "      <td>False</td>\n",
       "      <td>False</td>\n",
       "      <td>False</td>\n",
       "      <td>False</td>\n",
       "      <td>False</td>\n",
       "    </tr>\n",
       "    <tr>\n",
       "      <th>1</th>\n",
       "      <td>False</td>\n",
       "      <td>False</td>\n",
       "      <td>False</td>\n",
       "      <td>False</td>\n",
       "      <td>False</td>\n",
       "      <td>False</td>\n",
       "      <td>False</td>\n",
       "      <td>False</td>\n",
       "      <td>False</td>\n",
       "      <td>False</td>\n",
       "      <td>...</td>\n",
       "      <td>False</td>\n",
       "      <td>False</td>\n",
       "      <td>False</td>\n",
       "      <td>False</td>\n",
       "      <td>False</td>\n",
       "      <td>False</td>\n",
       "      <td>False</td>\n",
       "      <td>False</td>\n",
       "      <td>False</td>\n",
       "      <td>False</td>\n",
       "    </tr>\n",
       "    <tr>\n",
       "      <th>2</th>\n",
       "      <td>False</td>\n",
       "      <td>False</td>\n",
       "      <td>False</td>\n",
       "      <td>False</td>\n",
       "      <td>False</td>\n",
       "      <td>False</td>\n",
       "      <td>False</td>\n",
       "      <td>False</td>\n",
       "      <td>False</td>\n",
       "      <td>False</td>\n",
       "      <td>...</td>\n",
       "      <td>False</td>\n",
       "      <td>False</td>\n",
       "      <td>False</td>\n",
       "      <td>False</td>\n",
       "      <td>False</td>\n",
       "      <td>False</td>\n",
       "      <td>False</td>\n",
       "      <td>False</td>\n",
       "      <td>False</td>\n",
       "      <td>False</td>\n",
       "    </tr>\n",
       "    <tr>\n",
       "      <th>3</th>\n",
       "      <td>False</td>\n",
       "      <td>False</td>\n",
       "      <td>False</td>\n",
       "      <td>False</td>\n",
       "      <td>False</td>\n",
       "      <td>False</td>\n",
       "      <td>False</td>\n",
       "      <td>False</td>\n",
       "      <td>False</td>\n",
       "      <td>False</td>\n",
       "      <td>...</td>\n",
       "      <td>False</td>\n",
       "      <td>False</td>\n",
       "      <td>False</td>\n",
       "      <td>False</td>\n",
       "      <td>False</td>\n",
       "      <td>False</td>\n",
       "      <td>False</td>\n",
       "      <td>False</td>\n",
       "      <td>False</td>\n",
       "      <td>False</td>\n",
       "    </tr>\n",
       "    <tr>\n",
       "      <th>4</th>\n",
       "      <td>False</td>\n",
       "      <td>False</td>\n",
       "      <td>False</td>\n",
       "      <td>False</td>\n",
       "      <td>False</td>\n",
       "      <td>False</td>\n",
       "      <td>False</td>\n",
       "      <td>False</td>\n",
       "      <td>False</td>\n",
       "      <td>False</td>\n",
       "      <td>...</td>\n",
       "      <td>False</td>\n",
       "      <td>False</td>\n",
       "      <td>False</td>\n",
       "      <td>False</td>\n",
       "      <td>False</td>\n",
       "      <td>False</td>\n",
       "      <td>False</td>\n",
       "      <td>False</td>\n",
       "      <td>False</td>\n",
       "      <td>False</td>\n",
       "    </tr>\n",
       "    <tr>\n",
       "      <th>...</th>\n",
       "      <td>...</td>\n",
       "      <td>...</td>\n",
       "      <td>...</td>\n",
       "      <td>...</td>\n",
       "      <td>...</td>\n",
       "      <td>...</td>\n",
       "      <td>...</td>\n",
       "      <td>...</td>\n",
       "      <td>...</td>\n",
       "      <td>...</td>\n",
       "      <td>...</td>\n",
       "      <td>...</td>\n",
       "      <td>...</td>\n",
       "      <td>...</td>\n",
       "      <td>...</td>\n",
       "      <td>...</td>\n",
       "      <td>...</td>\n",
       "      <td>...</td>\n",
       "      <td>...</td>\n",
       "      <td>...</td>\n",
       "      <td>...</td>\n",
       "    </tr>\n",
       "    <tr>\n",
       "      <th>2635</th>\n",
       "      <td>False</td>\n",
       "      <td>False</td>\n",
       "      <td>False</td>\n",
       "      <td>False</td>\n",
       "      <td>False</td>\n",
       "      <td>False</td>\n",
       "      <td>False</td>\n",
       "      <td>False</td>\n",
       "      <td>False</td>\n",
       "      <td>False</td>\n",
       "      <td>...</td>\n",
       "      <td>False</td>\n",
       "      <td>False</td>\n",
       "      <td>False</td>\n",
       "      <td>False</td>\n",
       "      <td>False</td>\n",
       "      <td>False</td>\n",
       "      <td>False</td>\n",
       "      <td>False</td>\n",
       "      <td>False</td>\n",
       "      <td>False</td>\n",
       "    </tr>\n",
       "    <tr>\n",
       "      <th>2636</th>\n",
       "      <td>False</td>\n",
       "      <td>False</td>\n",
       "      <td>False</td>\n",
       "      <td>False</td>\n",
       "      <td>False</td>\n",
       "      <td>False</td>\n",
       "      <td>False</td>\n",
       "      <td>False</td>\n",
       "      <td>False</td>\n",
       "      <td>False</td>\n",
       "      <td>...</td>\n",
       "      <td>False</td>\n",
       "      <td>False</td>\n",
       "      <td>False</td>\n",
       "      <td>False</td>\n",
       "      <td>False</td>\n",
       "      <td>False</td>\n",
       "      <td>False</td>\n",
       "      <td>False</td>\n",
       "      <td>False</td>\n",
       "      <td>False</td>\n",
       "    </tr>\n",
       "    <tr>\n",
       "      <th>2637</th>\n",
       "      <td>False</td>\n",
       "      <td>False</td>\n",
       "      <td>False</td>\n",
       "      <td>False</td>\n",
       "      <td>False</td>\n",
       "      <td>False</td>\n",
       "      <td>False</td>\n",
       "      <td>False</td>\n",
       "      <td>False</td>\n",
       "      <td>False</td>\n",
       "      <td>...</td>\n",
       "      <td>False</td>\n",
       "      <td>False</td>\n",
       "      <td>False</td>\n",
       "      <td>False</td>\n",
       "      <td>False</td>\n",
       "      <td>False</td>\n",
       "      <td>False</td>\n",
       "      <td>False</td>\n",
       "      <td>False</td>\n",
       "      <td>False</td>\n",
       "    </tr>\n",
       "    <tr>\n",
       "      <th>2638</th>\n",
       "      <td>False</td>\n",
       "      <td>False</td>\n",
       "      <td>False</td>\n",
       "      <td>False</td>\n",
       "      <td>False</td>\n",
       "      <td>False</td>\n",
       "      <td>False</td>\n",
       "      <td>False</td>\n",
       "      <td>False</td>\n",
       "      <td>False</td>\n",
       "      <td>...</td>\n",
       "      <td>False</td>\n",
       "      <td>False</td>\n",
       "      <td>False</td>\n",
       "      <td>False</td>\n",
       "      <td>False</td>\n",
       "      <td>False</td>\n",
       "      <td>False</td>\n",
       "      <td>False</td>\n",
       "      <td>False</td>\n",
       "      <td>False</td>\n",
       "    </tr>\n",
       "    <tr>\n",
       "      <th>2639</th>\n",
       "      <td>False</td>\n",
       "      <td>False</td>\n",
       "      <td>False</td>\n",
       "      <td>False</td>\n",
       "      <td>False</td>\n",
       "      <td>False</td>\n",
       "      <td>False</td>\n",
       "      <td>False</td>\n",
       "      <td>False</td>\n",
       "      <td>False</td>\n",
       "      <td>...</td>\n",
       "      <td>False</td>\n",
       "      <td>False</td>\n",
       "      <td>False</td>\n",
       "      <td>False</td>\n",
       "      <td>False</td>\n",
       "      <td>False</td>\n",
       "      <td>False</td>\n",
       "      <td>False</td>\n",
       "      <td>False</td>\n",
       "      <td>False</td>\n",
       "    </tr>\n",
       "  </tbody>\n",
       "</table>\n",
       "<p>2640 rows × 35 columns</p>\n",
       "</div>"
      ],
      "text/plain": [
       "       rank  finalWorth  category  personName    age  country   city  source  \\\n",
       "0     False       False     False       False  False    False  False   False   \n",
       "1     False       False     False       False  False    False  False   False   \n",
       "2     False       False     False       False  False    False  False   False   \n",
       "3     False       False     False       False  False    False  False   False   \n",
       "4     False       False     False       False  False    False  False   False   \n",
       "...     ...         ...       ...         ...    ...      ...    ...     ...   \n",
       "2635  False       False     False       False  False    False  False   False   \n",
       "2636  False       False     False       False  False    False  False   False   \n",
       "2637  False       False     False       False  False    False  False   False   \n",
       "2638  False       False     False       False  False    False  False   False   \n",
       "2639  False       False     False       False  False    False  False   False   \n",
       "\n",
       "      industries  countryOfCitizenship  ...  cpi_change_country  gdp_country  \\\n",
       "0          False                 False  ...               False        False   \n",
       "1          False                 False  ...               False        False   \n",
       "2          False                 False  ...               False        False   \n",
       "3          False                 False  ...               False        False   \n",
       "4          False                 False  ...               False        False   \n",
       "...          ...                   ...  ...                 ...          ...   \n",
       "2635       False                 False  ...               False        False   \n",
       "2636       False                 False  ...               False        False   \n",
       "2637       False                 False  ...               False        False   \n",
       "2638       False                 False  ...               False        False   \n",
       "2639       False                 False  ...               False        False   \n",
       "\n",
       "      gross_tertiary_education_enrollment  \\\n",
       "0                                   False   \n",
       "1                                   False   \n",
       "2                                   False   \n",
       "3                                   False   \n",
       "4                                   False   \n",
       "...                                   ...   \n",
       "2635                                False   \n",
       "2636                                False   \n",
       "2637                                False   \n",
       "2638                                False   \n",
       "2639                                False   \n",
       "\n",
       "      gross_primary_education_enrollment_country  life_expectancy_country  \\\n",
       "0                                          False                    False   \n",
       "1                                          False                    False   \n",
       "2                                          False                    False   \n",
       "3                                          False                    False   \n",
       "4                                          False                    False   \n",
       "...                                          ...                      ...   \n",
       "2635                                       False                    False   \n",
       "2636                                       False                    False   \n",
       "2637                                       False                    False   \n",
       "2638                                       False                    False   \n",
       "2639                                       False                    False   \n",
       "\n",
       "      tax_revenue_country_country  total_tax_rate_country  population_country  \\\n",
       "0                           False                   False               False   \n",
       "1                           False                   False               False   \n",
       "2                           False                   False               False   \n",
       "3                           False                   False               False   \n",
       "4                           False                   False               False   \n",
       "...                           ...                     ...                 ...   \n",
       "2635                        False                   False               False   \n",
       "2636                        False                   False               False   \n",
       "2637                        False                   False               False   \n",
       "2638                        False                   False               False   \n",
       "2639                        False                   False               False   \n",
       "\n",
       "      latitude_country  longitude_country  \n",
       "0                False              False  \n",
       "1                False              False  \n",
       "2                False              False  \n",
       "3                False              False  \n",
       "4                False              False  \n",
       "...                ...                ...  \n",
       "2635             False              False  \n",
       "2636             False              False  \n",
       "2637             False              False  \n",
       "2638             False              False  \n",
       "2639             False              False  \n",
       "\n",
       "[2640 rows x 35 columns]"
      ]
     },
     "execution_count": 13,
     "metadata": {},
     "output_type": "execute_result"
    }
   ],
   "source": [
    "df.isnull()"
   ]
  },
  {
   "cell_type": "code",
   "execution_count": 14,
   "id": "862d0875",
   "metadata": {},
   "outputs": [
    {
     "data": {
      "text/plain": [
       "<AxesSubplot:>"
      ]
     },
     "execution_count": 14,
     "metadata": {},
     "output_type": "execute_result"
    },
    {
     "data": {
      "image/png": "[encoded data removed]",
      "text/plain": [
       "<Figure size 432x288 with 2 Axes>"
      ]
     },
     "metadata": {
      "needs_background": "light"
     },
     "output_type": "display_data"
    }
   ],
   "source": [
    "sns.heatmap(df.isnull())"
   ]
  },
  {
   "cell_type": "markdown",
   "id": "91570e94",
   "metadata": {},
   "source": [
    "# Count Of Gender"
   ]
  },
  {
   "cell_type": "code",
   "execution_count": 58,
   "id": "68e42a4c",
   "metadata": {},
   "outputs": [
    {
     "data": {
      "text/plain": [
       "M    2303\n",
       "F     337\n",
       "Name: gender, dtype: int64"
      ]
     },
     "execution_count": 58,
     "metadata": {},
     "output_type": "execute_result"
    }
   ],
   "source": [
    "gender_diversity = df['gender'].value_counts()\n",
    "gender_diversity"
   ]
  },
  {
   "cell_type": "code",
   "execution_count": 77,
   "id": "27cdc5ce",
   "metadata": {},
   "outputs": [
    {
     "data": {
      "text/plain": [
       "<AxesSubplot:>"
      ]
     },
     "execution_count": 77,
     "metadata": {},
     "output_type": "execute_result"
    },
    {
     "data": {
      "image/png": "[encoded data removed]",
      "text/plain": [
       "<Figure size 432x288 with 1 Axes>"
      ]
     },
     "metadata": {
      "needs_background": "light"
     },
     "output_type": "display_data"
    }
   ],
   "source": [
    "df.gender.value_counts().plot(kind= 'bar')"
   ]
  },
  {
   "cell_type": "markdown",
   "id": "13006a53",
   "metadata": {},
   "source": [
    "# Country Vise Billionaires"
   ]
  },
  {
   "cell_type": "code",
   "execution_count": 15,
   "id": "96408be8",
   "metadata": {},
   "outputs": [
    {
     "data": {
      "image/png": "[encoded data removed]",
      "text/plain": [
       "<Figure size 720x432 with 1 Axes>"
      ]
     },
     "metadata": {
      "needs_background": "light"
     },
     "output_type": "display_data"
    }
   ],
   "source": [
    "country_counts = df[\"country\"].value_counts().head()\n",
    "plt.figure(figsize=(10, 6))\n",
    "country_counts.plot(kind='bar', color = \"#F4C314\")\n",
    "plt.title('country counts')\n",
    "plt.xlabel('country')\n",
    "plt.ylabel('Billionaires')\n",
    "plt.xticks(rotation=90)\n",
    "plt.show()"
   ]
  },
  {
   "cell_type": "markdown",
   "id": "957337cf",
   "metadata": {},
   "source": [
    "# Category Vise counts"
   ]
  },
  {
   "cell_type": "code",
   "execution_count": 16,
   "id": "2248b332",
   "metadata": {},
   "outputs": [
    {
     "data": {
      "image/png": "[encoded data removed]",
      "text/plain": [
       "<Figure size 720x432 with 1 Axes>"
      ]
     },
     "metadata": {
      "needs_background": "light"
     },
     "output_type": "display_data"
    }
   ],
   "source": [
    "category_counts = df[\"category\"].value_counts().head()\n",
    "plt.figure(figsize=(10, 6))\n",
    "category_counts.plot(kind='bar', color = \"#F4C214\")\n",
    "plt.title('Category Vise counts')\n",
    "plt.xlabel('category')\n",
    "plt.ylabel('Billionaires')\n",
    "plt.xticks(rotation=90)\n",
    "plt.show()"
   ]
  },
  {
   "cell_type": "markdown",
   "id": "05422d66",
   "metadata": {},
   "source": [
    "# Source Distribution"
   ]
  },
  {
   "cell_type": "code",
   "execution_count": 17,
   "id": "3f09457c",
   "metadata": {},
   "outputs": [
    {
     "data": {
      "image/png": "[encoded data removed]",
      "text/plain": [
       "<Figure size 720x432 with 1 Axes>"
      ]
     },
     "metadata": {
      "needs_background": "light"
     },
     "output_type": "display_data"
    }
   ],
   "source": [
    "# Count the occurrences of each currency\n",
    "source_counts = df['source'].value_counts().head(3)\n",
    "\n",
    "# Create a bar plot\n",
    "plt.figure(figsize=(10, 6))\n",
    "source_counts.plot(kind='bar')\n",
    "plt.title('Source Distribution')\n",
    "plt.xlabel('source')\n",
    "plt.ylabel('Count')\n",
    "plt.xticks(rotation=45)  # Rotate x-axis labels for better readability\n",
    "plt.tight_layout()\n",
    "\n",
    "# Show the plot\n",
    "plt.show()"
   ]
  },
  {
   "cell_type": "markdown",
   "id": "b7e81443",
   "metadata": {},
   "source": [
    "# Wealth by Category"
   ]
  },
  {
   "cell_type": "code",
   "execution_count": 22,
   "id": "fddd923d",
   "metadata": {},
   "outputs": [
    {
     "data": {
      "image/png": "[encoded data removed]",
      "text/plain": [
       "<Figure size 864x432 with 1 Axes>"
      ]
     },
     "metadata": {
      "needs_background": "light"
     },
     "output_type": "display_data"
    }
   ],
   "source": [
    "category_mean_worth = df.groupby('category')['finalWorth'].mean().sort_values(ascending=False)\n",
    "\n",
    "# Create a bar plot\n",
    "plt.figure(figsize=(12, 6))\n",
    "category_mean_worth.plot(kind='bar', color='skyblue')\n",
    "plt.xlabel('Category')\n",
    "plt.ylabel('Mean Net Worth (Billions USD)')\n",
    "plt.title('Mean Wealth by Category')\n",
    "plt.xticks(rotation=90)\n",
    "plt.tight_layout()\n",
    "plt.show()"
   ]
  },
  {
   "cell_type": "markdown",
   "id": "f9c56084",
   "metadata": {},
   "source": [
    "# Top Billionaires by Net Worth and Category"
   ]
  },
  {
   "cell_type": "code",
   "execution_count": 27,
   "id": "50c60740",
   "metadata": {},
   "outputs": [
    {
     "name": "stdout",
     "output_type": "stream",
     "text": [
      "Top Billionaires by Net Worth and Category:\n",
      "                  personName  finalWorth               category\n",
      "0   Bernard Arnault & family      211000       Fashion & Retail\n",
      "1                  Elon Musk      180000             Automotive\n",
      "2                 Jeff Bezos      114000             Technology\n",
      "3              Larry Ellison      107000             Technology\n",
      "4             Warren Buffett      106000  Finance & Investments\n",
      "5                 Bill Gates      104000             Technology\n",
      "6          Michael Bloomberg       94500  Media & Entertainment\n",
      "7  Carlos Slim Helu & family       93000                Telecom\n",
      "8              Mukesh Ambani       83400            Diversified\n",
      "9              Steve Ballmer       80700             Technology\n"
     ]
    }
   ],
   "source": [
    "top_billionaires = df.sort_values(by='finalWorth', ascending=False).head(10).reset_index()\n",
    "print(\"Top Billionaires by Net Worth and Category:\")\n",
    "print(top_billionaires[['personName', 'finalWorth', 'category']])"
   ]
  },
  {
   "cell_type": "code",
   "execution_count": 56,
   "id": "900820ce",
   "metadata": {},
   "outputs": [
    {
     "data": {
      "image/png": "[encoded data removed]",
      "text/plain": [
       "<Figure size 864x432 with 1 Axes>"
      ]
     },
     "metadata": {
      "needs_background": "light"
     },
     "output_type": "display_data"
    }
   ],
   "source": [
    "top_billionaires = df.sort_values(by='finalWorth', ascending=False).head(10).reset_index()\n",
    "\n",
    "# Create a bar plot to display the top billionaires\n",
    "plt.figure(figsize=(12, 6))\n",
    "plt.barh(top_billionaires['personName'], top_billionaires['finalWorth'], color='skyblue')\n",
    "plt.xlabel('Net Worth (Billions USD)')\n",
    "plt.ylabel('Billionaire')\n",
    "plt.title('Top 10 Billionaires by Net Worth')\n",
    "plt.gca().invert_yaxis()  # Invert the y-axis to display the richest at the top\n",
    "plt.tight_layout()\n",
    "plt.show()"
   ]
  },
  {
   "cell_type": "code",
   "execution_count": 49,
   "id": "106fb3ce",
   "metadata": {},
   "outputs": [
    {
     "data": {
      "image/png": "[encoded data removed]",
      "text/plain": [
       "<Figure size 864x432 with 1 Axes>"
      ]
     },
     "metadata": {
      "needs_background": "light"
     },
     "output_type": "display_data"
    }
   ],
   "source": [
    "top_billionaires = df.sort_values(by='finalWorth', ascending=False).head(10).reset_index()\n",
    "\n",
    "# Create a bar plot to display the top billionaires\n",
    "plt.figure(figsize=(12, 6))\n",
    "plt.barh(top_billionaires['personName'], top_billionaires['category'], color='skyblue')\n",
    "plt.xlabel('Richest By Category')\n",
    "plt.ylabel('Billionaire')\n",
    "plt.title('Top 10 Billionaires by Net Worth and Category')\n",
    "plt.tight_layout()\n",
    "plt.show()"
   ]
  },
  {
   "cell_type": "markdown",
   "id": "02899953",
   "metadata": {},
   "source": [
    "# Self-Made vs. Inherited Billionaires"
   ]
  },
  {
   "cell_type": "code",
   "execution_count": 78,
   "id": "082e6c29",
   "metadata": {},
   "outputs": [
    {
     "name": "stdout",
     "output_type": "stream",
     "text": [
      "Self-Made vs. Inherited Billionaires:\n",
      "True     1812\n",
      "False     828\n",
      "Name: selfMade, dtype: int64\n"
     ]
    }
   ],
   "source": [
    "self_made_counts = df['selfMade'].value_counts()\n",
    "print(\"Self-Made vs. Inherited Billionaires:\")\n",
    "print(self_made_counts)"
   ]
  },
  {
   "cell_type": "code",
   "execution_count": 62,
   "id": "4629b874",
   "metadata": {},
   "outputs": [
    {
     "data": {
      "text/plain": [
       "<AxesSubplot:>"
      ]
     },
     "execution_count": 62,
     "metadata": {},
     "output_type": "execute_result"
    },
    {
     "data": {
      "image/png": "[encoded data removed]",
      "text/plain": [
       "<Figure size 432x288 with 1 Axes>"
      ]
     },
     "metadata": {
      "needs_background": "light"
     },
     "output_type": "display_data"
    }
   ],
   "source": [
    "df.selfMade.value_counts().plot(kind = 'bar')"
   ]
  },
  {
   "cell_type": "markdown",
   "id": "bd459b31",
   "metadata": {},
   "source": [
    "# Top Billionaires by Category and Gender"
   ]
  },
  {
   "cell_type": "code",
   "execution_count": 79,
   "id": "8193d2b7",
   "metadata": {},
   "outputs": [
    {
     "data": {
      "image/png": "[encoded data removed]",
      "text/plain": [
       "<Figure size 1080x648 with 1 Axes>"
      ]
     },
     "metadata": {
      "needs_background": "light"
     },
     "output_type": "display_data"
    }
   ],
   "source": [
    "top_billionaires = df.sort_values(by='finalWorth', ascending=False).head(50).reset_index()\n",
    "\n",
    "# Create a bar plot to display the top billionaires\n",
    "plt.figure(figsize=(15, 9))\n",
    "plt.barh(top_billionaires['gender'], top_billionaires['category'])\n",
    "plt.xlabel('Richest By Category')\n",
    "plt.ylabel('Billionaire')\n",
    "plt.title('Top 50 Billionaires by Category and Gender')\n",
    "plt.tight_layout()\n",
    "plt.show()"
   ]
  }
 ],
 "metadata": {
  "kernelspec": {
   "display_name": "Python 3 (ipykernel)",
   "language": "python",
   "name": "python3"
  },
  "language_info": {
   "codemirror_mode": {
    "name": "ipython",
    "version": 3
   },
   "file_extension": ".py",
   "mimetype": "text/x-python",
   "name": "python",
   "nbconvert_exporter": "python",
   "pygments_lexer": "ipython3",
   "version": "3.9.12"
  }
 },
 "nbformat": 4,
 "nbformat_minor": 5
}
